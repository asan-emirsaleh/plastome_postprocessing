{
 "cells": [
  {
   "cell_type": "markdown",
   "id": "d8b4b753",
   "metadata": {},
   "source": [
    "This notebook is for troubleshooting plastomes using NCBI-provided software pipelines. It was a suggestion from NCBI team rejected the annotation twice after uploading."
   ]
  },
  {
   "cell_type": "code",
   "execution_count": 11,
   "id": "3d2cf034",
   "metadata": {},
   "outputs": [],
   "source": [
    "import os\n",
    "\n",
    "# Defining variables for files\n",
    "template = 'plastomes/final/template.sbt'\n",
    "gb = 'plastomes/final/Crepis_callicephala.gb'\n",
    "fasta = 'plastomes/in/Crepis_callicephala.fasta'\n",
    "\n",
    "# command itself:\n",
    "# table2asn -t template.sbt -i sequence.fsa"
   ]
  },
  {
   "cell_type": "code",
   "execution_count": 12,
   "id": "bfd7c794",
   "metadata": {},
   "outputs": [
    {
     "name": "stdout",
     "output_type": "stream",
     "text": [
      "File 'plastomes/in/Crepis_callicephala.fasta' not found.\n",
      "Converting genbank file 'plastomes/final/Crepis_callicephala.gb' to FASTA...\n",
      "Successfully created 'plastomes/in/Crepis_callicephala.fasta'.\n"
     ]
    }
   ],
   "source": [
    "# check for fasta\n",
    "\n",
    "from Bio import SeqIO, SeqRecord\n",
    "\n",
    "try:\n",
    "    with open(fasta, \"r\") as fasta_file:\n",
    "        print(f\"File {fasta} does exist.\")\n",
    "except FileNotFoundError:\n",
    "    print(f\"File '{fasta}' not found.\\nConverting genbank file '{gb}' to FASTA...\")\n",
    "    try:\n",
    "        first_record = next(SeqIO.parse(gb, \"genbank\"))\n",
    "        SeqIO.write(first_record, fasta, \"fasta\")\n",
    "        print(f\"Successfully created '{fasta}'.\")\n",
    "    except FileNotFoundError:\n",
    "        print(f\"Error: The source GenBank file '{gb}' was not found.\")\n",
    "    except StopIteration:\n",
    "        print(f\"Error: The GenBank file '{gb}' is empty.\")"
   ]
  },
  {
   "cell_type": "markdown",
   "id": "35dde3bb",
   "metadata": {},
   "source": [
    "## Run `table2asn` program\n",
    "\n",
    "There are some recommendations on NCBI site that were not illuminated at Readme file of the program.\n",
    "`table2asn` will recognize files with **the same basename** as the input sequence file. Sequences that are part of a plasmid, or an organellar chromosome, or specific nuclear chromosomes need to have that information included in the fasta definition line, in these formats:\n",
    "\n",
    "- [location=mitochondrion]\n",
    "- [location=chloroplast]\n",
    "\n",
    "Sequences that are a complete circular chromosome or plasmid need to have the circular topology and the completeness included.\n",
    "\n",
    "- [topology=circular] [completeness=complete]\n",
    "- [topology=circular] gap at end, not circularized\n",
    "\n",
    "\n"
   ]
  },
  {
   "cell_type": "code",
   "execution_count": 37,
   "id": "04cf3c4f",
   "metadata": {},
   "outputs": [
    {
     "name": "stdout",
     "output_type": "stream",
     "text": [
      "Creating symbolic links:\n",
      "Symlink for 'plastomes/final/Crepis_callicephala.gb' is already exist.\n",
      "Symlink for 'plastomes/in/Crepis_callicephala.fasta' is already exist.\n",
      "Symlink '/home/asan/BIO_GENOMICS/notebooks/plastome_postprocessing/plastomes/table2asn/cc/cc.tbl' for '/home/asan/BIO_GENOMICS/notebooks/plastome_postprocessing/plastomes/final/gb2sequin_out/c_callicephala_final/05/Crepis_callicephala___149980_bp____DNA.tbl' was successfully created.\n",
      "Symlink '/home/asan/BIO_GENOMICS/notebooks/plastome_postprocessing/plastomes/table2asn/cc/cc.sqn' for '/home/asan/BIO_GENOMICS/notebooks/plastome_postprocessing/plastomes/final/gb2sequin_out/c_callicephala_final/05/Crepis_callicephala___149980_bp____DNA(1).sqn' was successfully created.\n"
     ]
    }
   ],
   "source": [
    "# preparing directory\n",
    "# all the files should be stored at the same directory\n",
    "import os\n",
    "\n",
    "project_dir = 'plastomes/table2asn'\n",
    "tbl_file = \"plastomes/final/gb2sequin_out/c_callicephala_final/05/Crepis_callicephala___149980_bp____DNA.tbl\"\n",
    "sqn_file = \"plastomes/final/gb2sequin_out/c_callicephala_final/05/Crepis_callicephala___149980_bp____DNA(1).sqn\"\n",
    "\n",
    "\n",
    "SHORT_NAMES = {\n",
    "    \"Crepis_callicephala\": \"cc\",\n",
    "    \"Crepis_purpurea\": \"cp\",\n",
    "}\n",
    "\n",
    "def create_symlinks(project_dir: str, sourcefile: str):\n",
    "    \"\"\"\n",
    "    Create symlinks for files to process.\n",
    "    \"\"\"\n",
    "\n",
    "    \n",
    "\n",
    "\n",
    "    basename = os.path.basename(sourcefile)\n",
    "    ext= basename.rsplit(\".\")[-1]\n",
    "    #print(\"ext\", ext)\n",
    "\n",
    "    # handle sql and tbl names\n",
    "    basename = str(basename).rsplit(\"___\")[0]\n",
    "\n",
    "    #print(\"basename\", basename)\n",
    "    species = basename.rsplit(\".\")[0]\n",
    "    #print(\"species\", species)\n",
    "    \n",
    "    label = SHORT_NAMES[species]\n",
    "    #print(\"label\", label)\n",
    "    target_dir = os.path.join(project_dir, label)\n",
    "    #print(\"target_dir\", target_dir)\n",
    "    abs_target_dir = os.path.abspath(target_dir)\n",
    "    target_filename = os.path.join(abs_target_dir, f\"{label}.{ext}\")\n",
    "    #print(\"target_filename\", target_filename)\n",
    "    abs_sourcefile = os.path.abspath(sourcefile)\n",
    "\n",
    "    try:\n",
    "        os.path.exists(sourcefile)\n",
    "        try:\n",
    "            # fixing first relative paths\n",
    "            os.symlink(abs_sourcefile, target_filename)\n",
    "            print(f\"Symlink '{target_filename}' for '{abs_sourcefile}' was successfully created.\")\n",
    "        except FileExistsError:\n",
    "            print(f\"Symlink for '{sourcefile}' is already exist.\")\n",
    "        except PermissionError:\n",
    "            print(f\"You have no permissions for this action.\")\n",
    "    except FileExistsError:\n",
    "        print(f\"Source file '{sourcefile}' does not exist.\")\n",
    "\n",
    "\n",
    "print(\"Creating symbolic links:\")\n",
    "create_symlinks(project_dir, gb)\n",
    "create_symlinks(project_dir, fasta)\n",
    "create_symlinks(project_dir, tbl_file)\n",
    "create_symlinks(project_dir, sqn_file)\n"
   ]
  },
  {
   "cell_type": "code",
   "execution_count": 40,
   "id": "3bf6b370",
   "metadata": {},
   "outputs": [
    {
     "name": "stdout",
     "output_type": "stream",
     "text": [
      "[organism=Crepis callicephala] [location=chloroplast] [topology=circular] [completeness=complete] [gcode=11]\n",
      "Checking input directory...\n",
      "  plastomes/table2asn/cc is present: True\n",
      "Checking input files...\n",
      "  plastomes/final/template.sbt is present: True\n",
      "  cc.sqn is present: True\n",
      "  cc.fasta is present: True\n",
      "  cc.gb is present: True\n",
      "  cc.tbl is present: True\n",
      "Running: conda run -n table2asn-env table2asn -indir /home/asan/BIO_GENOMICS/notebooks/plastome_postprocessing/plastomes/table2asn/cc -t /home/asan/BIO_GENOMICS/notebooks/plastome_postprocessing/plastomes/final/template.sbt -j '[organism=Crepis callicephala] [location=chloroplast] [topology=circular] [completeness=complete] [gcode=11]' -V vb -verbose\n",
      "STDOUT: \n",
      "STDERR: This copy of table2asn is more than 1 year old. Please download the current version if it is newer.\n",
      "\n",
      "\n",
      "`table2asn` completed successfully!\n"
     ]
    }
   ],
   "source": [
    "# testing table2asn\n",
    "import subprocess\n",
    "import sys\n",
    "\n",
    "\n",
    "# Configuration\n",
    "CONDA_ENV_NAME = \"plastome_post-env\"\n",
    "INPUT_SUBDIR = \"cc\"\n",
    "\n",
    "location = \"[location=chloroplast]\"\n",
    "topology = \"[topology=circular]\"\n",
    "completeness = \"[completeness=complete]\"\n",
    "organism = \"[organism=Crepis callicephala]\"\n",
    "code = \"[gcode=11]\"\n",
    "pcode = \"[gpcode=11]\"\n",
    "\n",
    "src_qualifiers = f\"{organism} {location} {topology} {completeness} {code}\"\n",
    "print(src_qualifiers)\n",
    "\n",
    "input_dir = f\"{project_dir}/cc\"\n",
    "# Check inputs\n",
    "print(f\"Checking input directory...\\n  {input_dir} is present: {os.path.isdir(input_dir)}\")\n",
    "print(f\"Checking input files...\\n  {template} is present: {os.path.isfile(template)}\")\n",
    "present_flag = False\n",
    "for i in os.listdir(input_dir):\n",
    "    file = os.path.join(input_dir, i)\n",
    "    present_flag = os.path.exists(file)\n",
    "    print(f\"  {i} is present: {present_flag}\")\n",
    "    if present_flag == False:\n",
    "        print(f\"    relative path: {file}\")\n",
    "\n",
    "    \n",
    "\n",
    "\n",
    "# table2asn -indir {project_dir}/cc -t {template} -j {comment}\n",
    "\n",
    "cmd = [\n",
    "    \"conda\", \"run\", \"-n\", \"table2asn-env\",\n",
    "    \"table2asn\",\n",
    "    \"-indir\", str(os.path.abspath(input_dir)),\n",
    "    \"-t\", str(os.path.abspath(template)),\n",
    "    \"-j\", f\"'{src_qualifiers}'\",\n",
    "    \"-V\", \"vb\",\n",
    "    \"-verbose\",\n",
    "]\n",
    "\n",
    "print(f\"Running: {' '.join(cmd)}\")\n",
    "\n",
    "try:\n",
    "    result = subprocess.run(cmd, check=True, capture_output=True, text=True)\n",
    "    print(\"STDOUT:\", result.stdout, flush=True)\n",
    "    print(\"STDERR:\", result.stderr, flush=True)\n",
    "    print(\"`table2asn` completed successfully!\", flush=True)\n",
    "except subprocess.CalledProcessError as e:\n",
    "    print(f\"`table2asn` failed with exit code {e.returncode}\")\n",
    "    sys.exit(e.returncode)"
   ]
  }
 ],
 "metadata": {
  "kernelspec": {
   "display_name": "plastome_post-env",
   "language": "python",
   "name": "python3"
  },
  "language_info": {
   "codemirror_mode": {
    "name": "ipython",
    "version": 3
   },
   "file_extension": ".py",
   "mimetype": "text/x-python",
   "name": "python",
   "nbconvert_exporter": "python",
   "pygments_lexer": "ipython3",
   "version": "3.14.0"
  }
 },
 "nbformat": 4,
 "nbformat_minor": 5
}
