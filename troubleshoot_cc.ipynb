{
 "cells": [
  {
   "cell_type": "markdown",
   "id": "d8b4b753",
   "metadata": {},
   "source": [
    "This notebook is for troubleshooting plastomes using NCBI-provided software pipelines. It was a suggestion from NCBI team rejected the annotation twice after uploading."
   ]
  },
  {
   "cell_type": "code",
   "execution_count": null,
   "id": "3d2cf034",
   "metadata": {},
   "outputs": [],
   "source": [
    "import os\n",
    "\n",
    "# Defining variables for files\n",
    "template = 'plastomes/final/template.sbt'\n",
    "gb_cc = 'plastomes/final/Crepis_callicephala.gb'\n",
    "\n"
   ]
  }
 ],
 "metadata": {
  "kernelspec": {
   "display_name": "plastome_post-env",
   "language": "python",
   "name": "python3"
  },
  "language_info": {
   "name": "python",
   "version": "3.14.0"
  }
 },
 "nbformat": 4,
 "nbformat_minor": 5
}
