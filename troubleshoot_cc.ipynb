{
 "cells": [
  {
   "cell_type": "markdown",
   "id": "d8b4b753",
   "metadata": {},
   "source": [
    "This notebook is for troubleshooting plastomes using NCBI-provided software pipelines. It was a suggestion from NCBI team rejected the annotation twice after uploading."
   ]
  },
  {
   "cell_type": "code",
   "execution_count": 11,
   "id": "3d2cf034",
   "metadata": {},
   "outputs": [],
   "source": [
    "import os\n",
    "\n",
    "# Defining variables for files\n",
    "template = 'plastomes/final/template.sbt'\n",
    "gb = 'plastomes/final/Crepis_callicephala.gb'\n",
    "fasta = 'plastomes/in/Crepis_callicephala.fasta'\n",
    "\n",
    "# command itself:\n",
    "# table2asn -t template.sbt -i sequence.fsa"
   ]
  },
  {
   "cell_type": "code",
   "execution_count": 12,
   "id": "bfd7c794",
   "metadata": {},
   "outputs": [
    {
     "name": "stdout",
     "output_type": "stream",
     "text": [
      "File 'plastomes/in/Crepis_callicephala.fasta' not found.\n",
      "Converting genbank file 'plastomes/final/Crepis_callicephala.gb' to FASTA...\n",
      "Successfully created 'plastomes/in/Crepis_callicephala.fasta'.\n"
     ]
    }
   ],
   "source": [
    "# check for fasta\n",
    "\n",
    "from Bio import SeqIO, SeqRecord\n",
    "\n",
    "try:\n",
    "    with open(fasta, \"r\") as fasta_file:\n",
    "        print(f\"File {fasta} does exist.\")\n",
    "except FileNotFoundError:\n",
    "    print(f\"File '{fasta}' not found.\\nConverting genbank file '{gb}' to FASTA...\")\n",
    "    try:\n",
    "        first_record = next(SeqIO.parse(gb, \"genbank\"))\n",
    "        SeqIO.write(first_record, fasta, \"fasta\")\n",
    "        print(f\"Successfully created '{fasta}'.\")\n",
    "    except FileNotFoundError:\n",
    "        print(f\"Error: The source GenBank file '{gb}' was not found.\")\n",
    "    except StopIteration:\n",
    "        print(f\"Error: The GenBank file '{gb}' is empty.\")"
   ]
  },
  {
   "cell_type": "markdown",
   "id": "35dde3bb",
   "metadata": {},
   "source": [
    "## Run `table2asn` program\n",
    "\n",
    "There are some recommendations on NCBI site that were not illuminated at Readme file of the program.\n",
    "`table2asn` will recognize files with **the same basename** as the input sequence file. Sequences that are part of a plasmid, or an organellar chromosome, or specific nuclear chromosomes need to have that information included in the fasta definition line, in these formats:\n",
    "\n",
    "- [location=mitochondrion]\n",
    "- [location=chloroplast]\n",
    "\n",
    "Sequences that are a complete circular chromosome or plasmid need to have the circular topology and the completeness included.\n",
    "\n",
    "- [topology=circular] [completeness=complete]\n",
    "- [topology=circular] gap at end, not circularized\n",
    "\n",
    "\n"
   ]
  },
  {
   "cell_type": "code",
   "execution_count": 14,
   "id": "04cf3c4f",
   "metadata": {},
   "outputs": [
    {
     "name": "stdout",
     "output_type": "stream",
     "text": [
      "Creating symbolic links:\n",
      "Symlink for 'plastomes/final/Crepis_callicephala.gb' is already exist.\n",
      "Symlink for 'plastomes/in/Crepis_callicephala.fasta' is already exist.\n"
     ]
    }
   ],
   "source": [
    "# preparing directory\n",
    "# all the files should be stored at the same directory\n",
    "import os\n",
    "\n",
    "project_dir = 'plastomes/table2asn'\n",
    "\n",
    "\n",
    "SHORT_NAMES = {\n",
    "    \"Crepis_callicephala\": \"cc\",\n",
    "    \"Crepis_purpurea\": \"cp\",\n",
    "}\n",
    "\n",
    "def create_symlinks(project_dir: str, sourcefile: str):\n",
    "    \"\"\"\n",
    "    Create symlinks for files to process.\n",
    "    \"\"\"\n",
    "    basename = os.path.basename(sourcefile)\n",
    "    #print(\"basename\", basename)\n",
    "    species = basename.rsplit(\".\")[0]\n",
    "    #print(\"species\", species)\n",
    "    ext= basename.rsplit(\".\")[-1]\n",
    "    #print(\"ext\", ext)\n",
    "    label = SHORT_NAMES[species]\n",
    "    #print(\"label\", label)\n",
    "    target_dir = os.path.join(project_dir, label)\n",
    "    #print(\"target_dir\", target_dir)\n",
    "    target_filename = os.path.join(target_dir, f\"{label}.{ext}\")\n",
    "    #print(\"target_filename\", target_filename)\n",
    "\n",
    "    try:\n",
    "        os.symlink(sourcefile, target_filename)\n",
    "        print(f\"Symlink '{target_filename}' for '{sourcefile}' was successfully created.\")\n",
    "    except FileExistsError:\n",
    "        print(f\"Symlink for '{sourcefile}' is already exist.\")\n",
    "    except PermissionError:\n",
    "        print(f\"You have no permissions for this action.\")\n",
    "\n",
    "\n",
    "print(\"Creating symbolic links:\")\n",
    "create_symlinks(project_dir, gb)\n",
    "create_symlinks(project_dir, fasta)"
   ]
  }
 ],
 "metadata": {
  "kernelspec": {
   "display_name": "plastome_post-env",
   "language": "python",
   "name": "python3"
  },
  "language_info": {
   "codemirror_mode": {
    "name": "ipython",
    "version": 3
   },
   "file_extension": ".py",
   "mimetype": "text/x-python",
   "name": "python",
   "nbconvert_exporter": "python",
   "pygments_lexer": "ipython3",
   "version": "3.14.0"
  }
 },
 "nbformat": 4,
 "nbformat_minor": 5
}
