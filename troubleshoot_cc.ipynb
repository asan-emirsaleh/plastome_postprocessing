{
 "cells": [
  {
   "cell_type": "markdown",
   "id": "d8b4b753",
   "metadata": {},
   "source": [
    "This notebook is for troubleshooting plastomes using NCBI-provided software pipelines. It was a suggestion from NCBI team rejected the annotation twice after uploading."
   ]
  },
  {
   "cell_type": "code",
   "execution_count": 1,
   "id": "3d2cf034",
   "metadata": {},
   "outputs": [],
   "source": [
    "import os\n",
    "\n",
    "# Defining variables for files\n",
    "template = 'plastomes/final/template.sbt'\n",
    "gb_cc = 'plastomes/final/Crepis_callicephala.gb'\n",
    "fasta_cc = 'plastomes/in/crepis_callicephalac.fasta'\n",
    "\n",
    "# command itself:\n",
    "# table2asn -t template.sbt -i sequence.fsa"
   ]
  },
  {
   "cell_type": "code",
   "execution_count": null,
   "id": "bfd7c794",
   "metadata": {},
   "outputs": [
    {
     "name": "stdout",
     "output_type": "stream",
     "text": [
      "File 'plastomes/in/crepis_callicephalac.fasta' not found.\n",
      "Converting genbank file 'plastomes/final/Crepis_callicephala.gb' to FASTA...\n",
      "Successfully created 'plastomes/in/crepis_callicephalac.fasta'.\n"
     ]
    }
   ],
   "source": [
    "# check for fasta\n",
    "\n",
    "from Bio import SeqIO, SeqRecord\n",
    "\n",
    "try:\n",
    "    with open(fasta_cc, \"r\") as fasta_file:\n",
    "        print(f\"File {fasta_cc} does exist.\")\n",
    "except FileNotFoundError:\n",
    "    print(f\"File '{fasta_cc}' not found.\\nConverting genbank file '{gb_cc}' to FASTA...\")\n",
    "    try:\n",
    "        first_record = next(SeqIO.parse(gb_cc, \"genbank\"))\n",
    "        SeqIO.write(first_record, fasta_cc, \"fasta\")\n",
    "        print(f\"Successfully created '{fasta_cc}'.\")\n",
    "    except FileNotFoundError:\n",
    "        print(f\"Error: The source GenBank file '{gb_cc}' was not found.\")\n",
    "    except StopIteration:\n",
    "        print(f\"Error: The GenBank file '{gb_cc}' is empty.\")"
   ]
  }
 ],
 "metadata": {
  "kernelspec": {
   "display_name": "plastome_post-env",
   "language": "python",
   "name": "python3"
  },
  "language_info": {
   "codemirror_mode": {
    "name": "ipython",
    "version": 3
   },
   "file_extension": ".py",
   "mimetype": "text/x-python",
   "name": "python",
   "nbconvert_exporter": "python",
   "pygments_lexer": "ipython3",
   "version": "3.14.0"
  }
 },
 "nbformat": 4,
 "nbformat_minor": 5
}
